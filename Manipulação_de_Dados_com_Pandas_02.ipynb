{
  "nbformat": 4,
  "nbformat_minor": 0,
  "metadata": {
    "colab": {
      "provenance": [],
      "collapsed_sections": [],
      "authorship_tag": "ABX9TyN8EiD07sk1UJngbkEsBFw8",
      "include_colab_link": true
    },
    "kernelspec": {
      "name": "python3",
      "display_name": "Python 3"
    },
    "language_info": {
      "name": "python"
    }
  },
  "cells": [
    {
      "cell_type": "markdown",
      "metadata": {
        "id": "view-in-github",
        "colab_type": "text"
      },
      "source": [
        "<a href=\"https://colab.research.google.com/github/BLayus/data-manipulation-exercises/blob/master/Manipula%C3%A7%C3%A3o_de_Dados_com_Pandas_02.ipynb\" target=\"_parent\"><img src=\"https://colab.research.google.com/assets/colab-badge.svg\" alt=\"Open In Colab\"/></a>"
      ]
    },
    {
      "cell_type": "markdown",
      "source": [
        "#### Passo 0 - link para o repositório do git "
      ],
      "metadata": {
        "id": "ZUMoCclcIX1A"
      }
    },
    {
      "cell_type": "code",
      "execution_count": 1,
      "metadata": {
        "colab": {
          "base_uri": "https://localhost:8080/"
        },
        "id": "XBo95nHrDdL_",
        "outputId": "fc4b5c3d-0cd2-43fe-a04c-71297eb8584c"
      },
      "outputs": [
        {
          "output_type": "stream",
          "name": "stdout",
          "text": [
            "fatal: destination path 'data-manipulation-exercises' already exists and is not an empty directory.\n"
          ]
        }
      ],
      "source": [
        "# Git clone para utilizar o repositório remoto do git\n",
        "\n",
        "! git clone https://github.com/BLayus/data-manipulation-exercises"
      ]
    },
    {
      "cell_type": "code",
      "source": [
        "cd data-manipulation-exercises/"
      ],
      "metadata": {
        "colab": {
          "base_uri": "https://localhost:8080/"
        },
        "id": "PqjORztGEIWA",
        "outputId": "da4f5d93-ef13-4c98-e137-47cba36ce28f"
      },
      "execution_count": 2,
      "outputs": [
        {
          "output_type": "stream",
          "name": "stdout",
          "text": [
            "/content/data-manipulation-exercises\n"
          ]
        }
      ]
    },
    {
      "cell_type": "code",
      "source": [
        "ls"
      ],
      "metadata": {
        "colab": {
          "base_uri": "https://localhost:8080/"
        },
        "id": "1Ojpk98MEL3A",
        "outputId": "2f1ee1e4-ddf2-41a6-e221-e7292225d68d"
      },
      "execution_count": 3,
      "outputs": [
        {
          "output_type": "stream",
          "name": "stdout",
          "text": [
            " \u001b[0m\u001b[01;34mdatasets\u001b[0m/                                   Manipulacao_de_Dados_Ex_03.ipynb\n",
            "'Manipulação_de_Dados_com_Pandas 01.ipynb'   README.md\n",
            " Manipulacao_de_Dados_Ex_01.ipynb            \u001b[01;34mresolucao_exemplo\u001b[0m/\n",
            " Manipulacao_de_Dados_Ex_02.ipynb\n"
          ]
        }
      ]
    },
    {
      "cell_type": "code",
      "source": [
        "cd datasets"
      ],
      "metadata": {
        "colab": {
          "base_uri": "https://localhost:8080/"
        },
        "id": "VFmf_zpQEOxT",
        "outputId": "bc3c6e73-0c2f-441c-9f53-84fb70c9fd15"
      },
      "execution_count": 4,
      "outputs": [
        {
          "output_type": "stream",
          "name": "stdout",
          "text": [
            "/content/data-manipulation-exercises/datasets\n"
          ]
        }
      ]
    },
    {
      "cell_type": "code",
      "source": [
        "ls"
      ],
      "metadata": {
        "colab": {
          "base_uri": "https://localhost:8080/"
        },
        "id": "BHp2M7mFEbMn",
        "outputId": "33f96aad-23c7-4230-9e7e-2626d705a8e9"
      },
      "execution_count": 5,
      "outputs": [
        {
          "output_type": "stream",
          "name": "stdout",
          "text": [
            "US_Crime_Rates_1960_2014.csv  users_dataset.csv\n"
          ]
        }
      ]
    },
    {
      "cell_type": "markdown",
      "source": [
        "### Tarefa 1. Importe o dataset e salve os dados em um dataframe"
      ],
      "metadata": {
        "id": "-AFNZ-9JIjpd"
      }
    },
    {
      "cell_type": "code",
      "source": [
        "import pandas as pd"
      ],
      "metadata": {
        "id": "G9YujSjFEbwZ"
      },
      "execution_count": 6,
      "outputs": []
    },
    {
      "cell_type": "code",
      "source": [
        "df = pd.read_csv('US_Crime_Rates_1960_2014.csv', sep= ',')"
      ],
      "metadata": {
        "id": "NqfIbEieFaSp"
      },
      "execution_count": 7,
      "outputs": []
    },
    {
      "cell_type": "code",
      "source": [
        "df.head(10)"
      ],
      "metadata": {
        "colab": {
          "base_uri": "https://localhost:8080/",
          "height": 363
        },
        "id": "vLxv37bTOcVb",
        "outputId": "3780358d-65d2-4939-b0c1-4ce84d88d23b"
      },
      "execution_count": 8,
      "outputs": [
        {
          "output_type": "execute_result",
          "data": {
            "text/plain": [
              "   Year  Population    Total  Violent  Property  Murder  Forcible_Rape  \\\n",
              "0  1960   179323175  3384200   288460   3095700    9110          17190   \n",
              "1  1961   182992000  3488000   289390   3198600    8740          17220   \n",
              "2  1962   185771000  3752200   301510   3450700    8530          17550   \n",
              "3  1963   188483000  4109500   316970   3792500    8640          17650   \n",
              "4  1964   191141000  4564600   364220   4200400    9360          21420   \n",
              "5  1965   193526000  4739400   387390   4352000    9960          23410   \n",
              "6  1966   195576000  5223500   430180   4793300   11040          25820   \n",
              "7  1967   197457000  5903400   499930   5403500   12240          27620   \n",
              "8  1968   199399000  6720200   595010   6125200   13800          31670   \n",
              "9  1969   201385000  7410900   661870   6749000   14760          37170   \n",
              "\n",
              "   Robbery  Aggravated_assault  Burglary  Larceny_Theft  Vehicle_Theft  \n",
              "0   107840              154320    912100        1855400         328200  \n",
              "1   106670              156760    949600        1913000         336000  \n",
              "2   110860              164570    994300        2089600         366800  \n",
              "3   116470              174210   1086400        2297800         408300  \n",
              "4   130390              203050   1213200        2514400         472800  \n",
              "5   138690              215330   1282500        2572600         496900  \n",
              "6   157990              235330   1410100        2822000         561200  \n",
              "7   202910              257160   1632100        3111600         659800  \n",
              "8   262840              286700   1858900        3482700         783600  \n",
              "9   298850              311090   1981900        3888600         878500  "
            ],
            "text/html": [
              "\n",
              "  <div id=\"df-987f33fe-ebd2-427a-be8f-84dd4f6743a1\">\n",
              "    <div class=\"colab-df-container\">\n",
              "      <div>\n",
              "<style scoped>\n",
              "    .dataframe tbody tr th:only-of-type {\n",
              "        vertical-align: middle;\n",
              "    }\n",
              "\n",
              "    .dataframe tbody tr th {\n",
              "        vertical-align: top;\n",
              "    }\n",
              "\n",
              "    .dataframe thead th {\n",
              "        text-align: right;\n",
              "    }\n",
              "</style>\n",
              "<table border=\"1\" class=\"dataframe\">\n",
              "  <thead>\n",
              "    <tr style=\"text-align: right;\">\n",
              "      <th></th>\n",
              "      <th>Year</th>\n",
              "      <th>Population</th>\n",
              "      <th>Total</th>\n",
              "      <th>Violent</th>\n",
              "      <th>Property</th>\n",
              "      <th>Murder</th>\n",
              "      <th>Forcible_Rape</th>\n",
              "      <th>Robbery</th>\n",
              "      <th>Aggravated_assault</th>\n",
              "      <th>Burglary</th>\n",
              "      <th>Larceny_Theft</th>\n",
              "      <th>Vehicle_Theft</th>\n",
              "    </tr>\n",
              "  </thead>\n",
              "  <tbody>\n",
              "    <tr>\n",
              "      <th>0</th>\n",
              "      <td>1960</td>\n",
              "      <td>179323175</td>\n",
              "      <td>3384200</td>\n",
              "      <td>288460</td>\n",
              "      <td>3095700</td>\n",
              "      <td>9110</td>\n",
              "      <td>17190</td>\n",
              "      <td>107840</td>\n",
              "      <td>154320</td>\n",
              "      <td>912100</td>\n",
              "      <td>1855400</td>\n",
              "      <td>328200</td>\n",
              "    </tr>\n",
              "    <tr>\n",
              "      <th>1</th>\n",
              "      <td>1961</td>\n",
              "      <td>182992000</td>\n",
              "      <td>3488000</td>\n",
              "      <td>289390</td>\n",
              "      <td>3198600</td>\n",
              "      <td>8740</td>\n",
              "      <td>17220</td>\n",
              "      <td>106670</td>\n",
              "      <td>156760</td>\n",
              "      <td>949600</td>\n",
              "      <td>1913000</td>\n",
              "      <td>336000</td>\n",
              "    </tr>\n",
              "    <tr>\n",
              "      <th>2</th>\n",
              "      <td>1962</td>\n",
              "      <td>185771000</td>\n",
              "      <td>3752200</td>\n",
              "      <td>301510</td>\n",
              "      <td>3450700</td>\n",
              "      <td>8530</td>\n",
              "      <td>17550</td>\n",
              "      <td>110860</td>\n",
              "      <td>164570</td>\n",
              "      <td>994300</td>\n",
              "      <td>2089600</td>\n",
              "      <td>366800</td>\n",
              "    </tr>\n",
              "    <tr>\n",
              "      <th>3</th>\n",
              "      <td>1963</td>\n",
              "      <td>188483000</td>\n",
              "      <td>4109500</td>\n",
              "      <td>316970</td>\n",
              "      <td>3792500</td>\n",
              "      <td>8640</td>\n",
              "      <td>17650</td>\n",
              "      <td>116470</td>\n",
              "      <td>174210</td>\n",
              "      <td>1086400</td>\n",
              "      <td>2297800</td>\n",
              "      <td>408300</td>\n",
              "    </tr>\n",
              "    <tr>\n",
              "      <th>4</th>\n",
              "      <td>1964</td>\n",
              "      <td>191141000</td>\n",
              "      <td>4564600</td>\n",
              "      <td>364220</td>\n",
              "      <td>4200400</td>\n",
              "      <td>9360</td>\n",
              "      <td>21420</td>\n",
              "      <td>130390</td>\n",
              "      <td>203050</td>\n",
              "      <td>1213200</td>\n",
              "      <td>2514400</td>\n",
              "      <td>472800</td>\n",
              "    </tr>\n",
              "    <tr>\n",
              "      <th>5</th>\n",
              "      <td>1965</td>\n",
              "      <td>193526000</td>\n",
              "      <td>4739400</td>\n",
              "      <td>387390</td>\n",
              "      <td>4352000</td>\n",
              "      <td>9960</td>\n",
              "      <td>23410</td>\n",
              "      <td>138690</td>\n",
              "      <td>215330</td>\n",
              "      <td>1282500</td>\n",
              "      <td>2572600</td>\n",
              "      <td>496900</td>\n",
              "    </tr>\n",
              "    <tr>\n",
              "      <th>6</th>\n",
              "      <td>1966</td>\n",
              "      <td>195576000</td>\n",
              "      <td>5223500</td>\n",
              "      <td>430180</td>\n",
              "      <td>4793300</td>\n",
              "      <td>11040</td>\n",
              "      <td>25820</td>\n",
              "      <td>157990</td>\n",
              "      <td>235330</td>\n",
              "      <td>1410100</td>\n",
              "      <td>2822000</td>\n",
              "      <td>561200</td>\n",
              "    </tr>\n",
              "    <tr>\n",
              "      <th>7</th>\n",
              "      <td>1967</td>\n",
              "      <td>197457000</td>\n",
              "      <td>5903400</td>\n",
              "      <td>499930</td>\n",
              "      <td>5403500</td>\n",
              "      <td>12240</td>\n",
              "      <td>27620</td>\n",
              "      <td>202910</td>\n",
              "      <td>257160</td>\n",
              "      <td>1632100</td>\n",
              "      <td>3111600</td>\n",
              "      <td>659800</td>\n",
              "    </tr>\n",
              "    <tr>\n",
              "      <th>8</th>\n",
              "      <td>1968</td>\n",
              "      <td>199399000</td>\n",
              "      <td>6720200</td>\n",
              "      <td>595010</td>\n",
              "      <td>6125200</td>\n",
              "      <td>13800</td>\n",
              "      <td>31670</td>\n",
              "      <td>262840</td>\n",
              "      <td>286700</td>\n",
              "      <td>1858900</td>\n",
              "      <td>3482700</td>\n",
              "      <td>783600</td>\n",
              "    </tr>\n",
              "    <tr>\n",
              "      <th>9</th>\n",
              "      <td>1969</td>\n",
              "      <td>201385000</td>\n",
              "      <td>7410900</td>\n",
              "      <td>661870</td>\n",
              "      <td>6749000</td>\n",
              "      <td>14760</td>\n",
              "      <td>37170</td>\n",
              "      <td>298850</td>\n",
              "      <td>311090</td>\n",
              "      <td>1981900</td>\n",
              "      <td>3888600</td>\n",
              "      <td>878500</td>\n",
              "    </tr>\n",
              "  </tbody>\n",
              "</table>\n",
              "</div>\n",
              "      <button class=\"colab-df-convert\" onclick=\"convertToInteractive('df-987f33fe-ebd2-427a-be8f-84dd4f6743a1')\"\n",
              "              title=\"Convert this dataframe to an interactive table.\"\n",
              "              style=\"display:none;\">\n",
              "        \n",
              "  <svg xmlns=\"http://www.w3.org/2000/svg\" height=\"24px\"viewBox=\"0 0 24 24\"\n",
              "       width=\"24px\">\n",
              "    <path d=\"M0 0h24v24H0V0z\" fill=\"none\"/>\n",
              "    <path d=\"M18.56 5.44l.94 2.06.94-2.06 2.06-.94-2.06-.94-.94-2.06-.94 2.06-2.06.94zm-11 1L8.5 8.5l.94-2.06 2.06-.94-2.06-.94L8.5 2.5l-.94 2.06-2.06.94zm10 10l.94 2.06.94-2.06 2.06-.94-2.06-.94-.94-2.06-.94 2.06-2.06.94z\"/><path d=\"M17.41 7.96l-1.37-1.37c-.4-.4-.92-.59-1.43-.59-.52 0-1.04.2-1.43.59L10.3 9.45l-7.72 7.72c-.78.78-.78 2.05 0 2.83L4 21.41c.39.39.9.59 1.41.59.51 0 1.02-.2 1.41-.59l7.78-7.78 2.81-2.81c.8-.78.8-2.07 0-2.86zM5.41 20L4 18.59l7.72-7.72 1.47 1.35L5.41 20z\"/>\n",
              "  </svg>\n",
              "      </button>\n",
              "      \n",
              "  <style>\n",
              "    .colab-df-container {\n",
              "      display:flex;\n",
              "      flex-wrap:wrap;\n",
              "      gap: 12px;\n",
              "    }\n",
              "\n",
              "    .colab-df-convert {\n",
              "      background-color: #E8F0FE;\n",
              "      border: none;\n",
              "      border-radius: 50%;\n",
              "      cursor: pointer;\n",
              "      display: none;\n",
              "      fill: #1967D2;\n",
              "      height: 32px;\n",
              "      padding: 0 0 0 0;\n",
              "      width: 32px;\n",
              "    }\n",
              "\n",
              "    .colab-df-convert:hover {\n",
              "      background-color: #E2EBFA;\n",
              "      box-shadow: 0px 1px 2px rgba(60, 64, 67, 0.3), 0px 1px 3px 1px rgba(60, 64, 67, 0.15);\n",
              "      fill: #174EA6;\n",
              "    }\n",
              "\n",
              "    [theme=dark] .colab-df-convert {\n",
              "      background-color: #3B4455;\n",
              "      fill: #D2E3FC;\n",
              "    }\n",
              "\n",
              "    [theme=dark] .colab-df-convert:hover {\n",
              "      background-color: #434B5C;\n",
              "      box-shadow: 0px 1px 3px 1px rgba(0, 0, 0, 0.15);\n",
              "      filter: drop-shadow(0px 1px 2px rgba(0, 0, 0, 0.3));\n",
              "      fill: #FFFFFF;\n",
              "    }\n",
              "  </style>\n",
              "\n",
              "      <script>\n",
              "        const buttonEl =\n",
              "          document.querySelector('#df-987f33fe-ebd2-427a-be8f-84dd4f6743a1 button.colab-df-convert');\n",
              "        buttonEl.style.display =\n",
              "          google.colab.kernel.accessAllowed ? 'block' : 'none';\n",
              "\n",
              "        async function convertToInteractive(key) {\n",
              "          const element = document.querySelector('#df-987f33fe-ebd2-427a-be8f-84dd4f6743a1');\n",
              "          const dataTable =\n",
              "            await google.colab.kernel.invokeFunction('convertToInteractive',\n",
              "                                                     [key], {});\n",
              "          if (!dataTable) return;\n",
              "\n",
              "          const docLinkHtml = 'Like what you see? Visit the ' +\n",
              "            '<a target=\"_blank\" href=https://colab.research.google.com/notebooks/data_table.ipynb>data table notebook</a>'\n",
              "            + ' to learn more about interactive tables.';\n",
              "          element.innerHTML = '';\n",
              "          dataTable['output_type'] = 'display_data';\n",
              "          await google.colab.output.renderOutput(dataTable, element);\n",
              "          const docLink = document.createElement('div');\n",
              "          docLink.innerHTML = docLinkHtml;\n",
              "          element.appendChild(docLink);\n",
              "        }\n",
              "      </script>\n",
              "    </div>\n",
              "  </div>\n",
              "  "
            ]
          },
          "metadata": {},
          "execution_count": 8
        }
      ]
    },
    {
      "cell_type": "code",
      "source": [
        "df.info()"
      ],
      "metadata": {
        "colab": {
          "base_uri": "https://localhost:8080/"
        },
        "id": "CPDWo39dOicS",
        "outputId": "fe1d4110-7fdd-4724-c8b3-5a75e1d6f706"
      },
      "execution_count": 9,
      "outputs": [
        {
          "output_type": "stream",
          "name": "stdout",
          "text": [
            "<class 'pandas.core.frame.DataFrame'>\n",
            "RangeIndex: 55 entries, 0 to 54\n",
            "Data columns (total 12 columns):\n",
            " #   Column              Non-Null Count  Dtype\n",
            "---  ------              --------------  -----\n",
            " 0   Year                55 non-null     int64\n",
            " 1   Population          55 non-null     int64\n",
            " 2   Total               55 non-null     int64\n",
            " 3   Violent             55 non-null     int64\n",
            " 4   Property            55 non-null     int64\n",
            " 5   Murder              55 non-null     int64\n",
            " 6   Forcible_Rape       55 non-null     int64\n",
            " 7   Robbery             55 non-null     int64\n",
            " 8   Aggravated_assault  55 non-null     int64\n",
            " 9   Burglary            55 non-null     int64\n",
            " 10  Larceny_Theft       55 non-null     int64\n",
            " 11  Vehicle_Theft       55 non-null     int64\n",
            "dtypes: int64(12)\n",
            "memory usage: 5.3 KB\n"
          ]
        }
      ]
    },
    {
      "cell_type": "markdown",
      "source": [
        "### Tarefa 2. Qual o tipo de dados em cada coluna?"
      ],
      "metadata": {
        "id": "aWok2PbcOobM"
      }
    },
    {
      "cell_type": "code",
      "source": [
        "# Mostrando os dtypes do dataset\n",
        "\n",
        "df.dtypes"
      ],
      "metadata": {
        "colab": {
          "base_uri": "https://localhost:8080/"
        },
        "id": "X2i0FFPXOjp3",
        "outputId": "49762cc1-5418-4791-ef8f-2e99cc4f2f3c"
      },
      "execution_count": 10,
      "outputs": [
        {
          "output_type": "execute_result",
          "data": {
            "text/plain": [
              "Year                  int64\n",
              "Population            int64\n",
              "Total                 int64\n",
              "Violent               int64\n",
              "Property              int64\n",
              "Murder                int64\n",
              "Forcible_Rape         int64\n",
              "Robbery               int64\n",
              "Aggravated_assault    int64\n",
              "Burglary              int64\n",
              "Larceny_Theft         int64\n",
              "Vehicle_Theft         int64\n",
              "dtype: object"
            ]
          },
          "metadata": {},
          "execution_count": 10
        }
      ]
    },
    {
      "cell_type": "markdown",
      "source": [
        "### Tarefa 3. Converta o tipo de dado da coluna Year para o tipo datetime"
      ],
      "metadata": {
        "id": "5E5GScWTO453"
      }
    },
    {
      "cell_type": "code",
      "source": [
        "pd.to_datetime(df['Year'], format= '%Y')"
      ],
      "metadata": {
        "colab": {
          "base_uri": "https://localhost:8080/"
        },
        "id": "onUlp-H7Otim",
        "outputId": "fbdf237b-793b-4874-d922-a5ac9ce19e69"
      },
      "execution_count": 11,
      "outputs": [
        {
          "output_type": "execute_result",
          "data": {
            "text/plain": [
              "0    1960-01-01\n",
              "1    1961-01-01\n",
              "2    1962-01-01\n",
              "3    1963-01-01\n",
              "4    1964-01-01\n",
              "5    1965-01-01\n",
              "6    1966-01-01\n",
              "7    1967-01-01\n",
              "8    1968-01-01\n",
              "9    1969-01-01\n",
              "10   1970-01-01\n",
              "11   1971-01-01\n",
              "12   1972-01-01\n",
              "13   1973-01-01\n",
              "14   1974-01-01\n",
              "15   1975-01-01\n",
              "16   1976-01-01\n",
              "17   1977-01-01\n",
              "18   1978-01-01\n",
              "19   1979-01-01\n",
              "20   1980-01-01\n",
              "21   1981-01-01\n",
              "22   1982-01-01\n",
              "23   1983-01-01\n",
              "24   1984-01-01\n",
              "25   1985-01-01\n",
              "26   1986-01-01\n",
              "27   1987-01-01\n",
              "28   1988-01-01\n",
              "29   1989-01-01\n",
              "30   1990-01-01\n",
              "31   1991-01-01\n",
              "32   1992-01-01\n",
              "33   1993-01-01\n",
              "34   1994-01-01\n",
              "35   1995-01-01\n",
              "36   1996-01-01\n",
              "37   1997-01-01\n",
              "38   1998-01-01\n",
              "39   1999-01-01\n",
              "40   2000-01-01\n",
              "41   2001-01-01\n",
              "42   2002-01-01\n",
              "43   2003-01-01\n",
              "44   2004-01-01\n",
              "45   2005-01-01\n",
              "46   2006-01-01\n",
              "47   2007-01-01\n",
              "48   2008-01-01\n",
              "49   2009-01-01\n",
              "50   2010-01-01\n",
              "51   2011-01-01\n",
              "52   2012-01-01\n",
              "53   2013-01-01\n",
              "54   2014-01-01\n",
              "Name: Year, dtype: datetime64[ns]"
            ]
          },
          "metadata": {},
          "execution_count": 11
        }
      ]
    },
    {
      "cell_type": "markdown",
      "source": [
        "### Tarefa 4. Configure a coluna Year como index do DataFrame."
      ],
      "metadata": {
        "id": "vT4MaZ3cQ6Yw"
      }
    },
    {
      "cell_type": "code",
      "source": [
        "df.set_index('Year', inplace= True)"
      ],
      "metadata": {
        "id": "jREyQ_F0Q3YG"
      },
      "execution_count": 12,
      "outputs": []
    },
    {
      "cell_type": "code",
      "source": [
        "df.head()"
      ],
      "metadata": {
        "colab": {
          "base_uri": "https://localhost:8080/",
          "height": 237
        },
        "id": "UYYJaPON_LLL",
        "outputId": "9cdff547-f1d0-465a-c933-9a278e5c4d0a"
      },
      "execution_count": 13,
      "outputs": [
        {
          "output_type": "execute_result",
          "data": {
            "text/plain": [
              "      Population    Total  Violent  Property  Murder  Forcible_Rape  Robbery  \\\n",
              "Year                                                                           \n",
              "1960   179323175  3384200   288460   3095700    9110          17190   107840   \n",
              "1961   182992000  3488000   289390   3198600    8740          17220   106670   \n",
              "1962   185771000  3752200   301510   3450700    8530          17550   110860   \n",
              "1963   188483000  4109500   316970   3792500    8640          17650   116470   \n",
              "1964   191141000  4564600   364220   4200400    9360          21420   130390   \n",
              "\n",
              "      Aggravated_assault  Burglary  Larceny_Theft  Vehicle_Theft  \n",
              "Year                                                              \n",
              "1960              154320    912100        1855400         328200  \n",
              "1961              156760    949600        1913000         336000  \n",
              "1962              164570    994300        2089600         366800  \n",
              "1963              174210   1086400        2297800         408300  \n",
              "1964              203050   1213200        2514400         472800  "
            ],
            "text/html": [
              "\n",
              "  <div id=\"df-f9a81713-5b8f-498d-8b38-d3a1d4721044\">\n",
              "    <div class=\"colab-df-container\">\n",
              "      <div>\n",
              "<style scoped>\n",
              "    .dataframe tbody tr th:only-of-type {\n",
              "        vertical-align: middle;\n",
              "    }\n",
              "\n",
              "    .dataframe tbody tr th {\n",
              "        vertical-align: top;\n",
              "    }\n",
              "\n",
              "    .dataframe thead th {\n",
              "        text-align: right;\n",
              "    }\n",
              "</style>\n",
              "<table border=\"1\" class=\"dataframe\">\n",
              "  <thead>\n",
              "    <tr style=\"text-align: right;\">\n",
              "      <th></th>\n",
              "      <th>Population</th>\n",
              "      <th>Total</th>\n",
              "      <th>Violent</th>\n",
              "      <th>Property</th>\n",
              "      <th>Murder</th>\n",
              "      <th>Forcible_Rape</th>\n",
              "      <th>Robbery</th>\n",
              "      <th>Aggravated_assault</th>\n",
              "      <th>Burglary</th>\n",
              "      <th>Larceny_Theft</th>\n",
              "      <th>Vehicle_Theft</th>\n",
              "    </tr>\n",
              "    <tr>\n",
              "      <th>Year</th>\n",
              "      <th></th>\n",
              "      <th></th>\n",
              "      <th></th>\n",
              "      <th></th>\n",
              "      <th></th>\n",
              "      <th></th>\n",
              "      <th></th>\n",
              "      <th></th>\n",
              "      <th></th>\n",
              "      <th></th>\n",
              "      <th></th>\n",
              "    </tr>\n",
              "  </thead>\n",
              "  <tbody>\n",
              "    <tr>\n",
              "      <th>1960</th>\n",
              "      <td>179323175</td>\n",
              "      <td>3384200</td>\n",
              "      <td>288460</td>\n",
              "      <td>3095700</td>\n",
              "      <td>9110</td>\n",
              "      <td>17190</td>\n",
              "      <td>107840</td>\n",
              "      <td>154320</td>\n",
              "      <td>912100</td>\n",
              "      <td>1855400</td>\n",
              "      <td>328200</td>\n",
              "    </tr>\n",
              "    <tr>\n",
              "      <th>1961</th>\n",
              "      <td>182992000</td>\n",
              "      <td>3488000</td>\n",
              "      <td>289390</td>\n",
              "      <td>3198600</td>\n",
              "      <td>8740</td>\n",
              "      <td>17220</td>\n",
              "      <td>106670</td>\n",
              "      <td>156760</td>\n",
              "      <td>949600</td>\n",
              "      <td>1913000</td>\n",
              "      <td>336000</td>\n",
              "    </tr>\n",
              "    <tr>\n",
              "      <th>1962</th>\n",
              "      <td>185771000</td>\n",
              "      <td>3752200</td>\n",
              "      <td>301510</td>\n",
              "      <td>3450700</td>\n",
              "      <td>8530</td>\n",
              "      <td>17550</td>\n",
              "      <td>110860</td>\n",
              "      <td>164570</td>\n",
              "      <td>994300</td>\n",
              "      <td>2089600</td>\n",
              "      <td>366800</td>\n",
              "    </tr>\n",
              "    <tr>\n",
              "      <th>1963</th>\n",
              "      <td>188483000</td>\n",
              "      <td>4109500</td>\n",
              "      <td>316970</td>\n",
              "      <td>3792500</td>\n",
              "      <td>8640</td>\n",
              "      <td>17650</td>\n",
              "      <td>116470</td>\n",
              "      <td>174210</td>\n",
              "      <td>1086400</td>\n",
              "      <td>2297800</td>\n",
              "      <td>408300</td>\n",
              "    </tr>\n",
              "    <tr>\n",
              "      <th>1964</th>\n",
              "      <td>191141000</td>\n",
              "      <td>4564600</td>\n",
              "      <td>364220</td>\n",
              "      <td>4200400</td>\n",
              "      <td>9360</td>\n",
              "      <td>21420</td>\n",
              "      <td>130390</td>\n",
              "      <td>203050</td>\n",
              "      <td>1213200</td>\n",
              "      <td>2514400</td>\n",
              "      <td>472800</td>\n",
              "    </tr>\n",
              "  </tbody>\n",
              "</table>\n",
              "</div>\n",
              "      <button class=\"colab-df-convert\" onclick=\"convertToInteractive('df-f9a81713-5b8f-498d-8b38-d3a1d4721044')\"\n",
              "              title=\"Convert this dataframe to an interactive table.\"\n",
              "              style=\"display:none;\">\n",
              "        \n",
              "  <svg xmlns=\"http://www.w3.org/2000/svg\" height=\"24px\"viewBox=\"0 0 24 24\"\n",
              "       width=\"24px\">\n",
              "    <path d=\"M0 0h24v24H0V0z\" fill=\"none\"/>\n",
              "    <path d=\"M18.56 5.44l.94 2.06.94-2.06 2.06-.94-2.06-.94-.94-2.06-.94 2.06-2.06.94zm-11 1L8.5 8.5l.94-2.06 2.06-.94-2.06-.94L8.5 2.5l-.94 2.06-2.06.94zm10 10l.94 2.06.94-2.06 2.06-.94-2.06-.94-.94-2.06-.94 2.06-2.06.94z\"/><path d=\"M17.41 7.96l-1.37-1.37c-.4-.4-.92-.59-1.43-.59-.52 0-1.04.2-1.43.59L10.3 9.45l-7.72 7.72c-.78.78-.78 2.05 0 2.83L4 21.41c.39.39.9.59 1.41.59.51 0 1.02-.2 1.41-.59l7.78-7.78 2.81-2.81c.8-.78.8-2.07 0-2.86zM5.41 20L4 18.59l7.72-7.72 1.47 1.35L5.41 20z\"/>\n",
              "  </svg>\n",
              "      </button>\n",
              "      \n",
              "  <style>\n",
              "    .colab-df-container {\n",
              "      display:flex;\n",
              "      flex-wrap:wrap;\n",
              "      gap: 12px;\n",
              "    }\n",
              "\n",
              "    .colab-df-convert {\n",
              "      background-color: #E8F0FE;\n",
              "      border: none;\n",
              "      border-radius: 50%;\n",
              "      cursor: pointer;\n",
              "      display: none;\n",
              "      fill: #1967D2;\n",
              "      height: 32px;\n",
              "      padding: 0 0 0 0;\n",
              "      width: 32px;\n",
              "    }\n",
              "\n",
              "    .colab-df-convert:hover {\n",
              "      background-color: #E2EBFA;\n",
              "      box-shadow: 0px 1px 2px rgba(60, 64, 67, 0.3), 0px 1px 3px 1px rgba(60, 64, 67, 0.15);\n",
              "      fill: #174EA6;\n",
              "    }\n",
              "\n",
              "    [theme=dark] .colab-df-convert {\n",
              "      background-color: #3B4455;\n",
              "      fill: #D2E3FC;\n",
              "    }\n",
              "\n",
              "    [theme=dark] .colab-df-convert:hover {\n",
              "      background-color: #434B5C;\n",
              "      box-shadow: 0px 1px 3px 1px rgba(0, 0, 0, 0.15);\n",
              "      filter: drop-shadow(0px 1px 2px rgba(0, 0, 0, 0.3));\n",
              "      fill: #FFFFFF;\n",
              "    }\n",
              "  </style>\n",
              "\n",
              "      <script>\n",
              "        const buttonEl =\n",
              "          document.querySelector('#df-f9a81713-5b8f-498d-8b38-d3a1d4721044 button.colab-df-convert');\n",
              "        buttonEl.style.display =\n",
              "          google.colab.kernel.accessAllowed ? 'block' : 'none';\n",
              "\n",
              "        async function convertToInteractive(key) {\n",
              "          const element = document.querySelector('#df-f9a81713-5b8f-498d-8b38-d3a1d4721044');\n",
              "          const dataTable =\n",
              "            await google.colab.kernel.invokeFunction('convertToInteractive',\n",
              "                                                     [key], {});\n",
              "          if (!dataTable) return;\n",
              "\n",
              "          const docLinkHtml = 'Like what you see? Visit the ' +\n",
              "            '<a target=\"_blank\" href=https://colab.research.google.com/notebooks/data_table.ipynb>data table notebook</a>'\n",
              "            + ' to learn more about interactive tables.';\n",
              "          element.innerHTML = '';\n",
              "          dataTable['output_type'] = 'display_data';\n",
              "          await google.colab.output.renderOutput(dataTable, element);\n",
              "          const docLink = document.createElement('div');\n",
              "          docLink.innerHTML = docLinkHtml;\n",
              "          element.appendChild(docLink);\n",
              "        }\n",
              "      </script>\n",
              "    </div>\n",
              "  </div>\n",
              "  "
            ]
          },
          "metadata": {},
          "execution_count": 13
        }
      ]
    },
    {
      "cell_type": "markdown",
      "source": [
        "### Tarefa 5. Remova a coluna Total do DataFrame."
      ],
      "metadata": {
        "id": "-puCpHGoRaT_"
      }
    },
    {
      "cell_type": "code",
      "source": [
        "df.drop('Total', axis=1, inplace= True)\n",
        "df.columns"
      ],
      "metadata": {
        "colab": {
          "base_uri": "https://localhost:8080/"
        },
        "id": "kNdLWTEpRbca",
        "outputId": "53ca846e-aff9-4346-f007-e5b87a4ea132"
      },
      "execution_count": 14,
      "outputs": [
        {
          "output_type": "execute_result",
          "data": {
            "text/plain": [
              "Index(['Population', 'Violent', 'Property', 'Murder', 'Forcible_Rape',\n",
              "       'Robbery', 'Aggravated_assault', 'Burglary', 'Larceny_Theft',\n",
              "       'Vehicle_Theft'],\n",
              "      dtype='object')"
            ]
          },
          "metadata": {},
          "execution_count": 14
        }
      ]
    },
    {
      "cell_type": "markdown",
      "source": [
        "### Tarefa 6. Encontre o número de roubos de carro do ano de 1978."
      ],
      "metadata": {
        "id": "vvVdDBk6SCjW"
      }
    },
    {
      "cell_type": "code",
      "source": [
        "df[df.index == 1978]"
      ],
      "metadata": {
        "colab": {
          "base_uri": "https://localhost:8080/",
          "height": 112
        },
        "id": "ZS7k1eDFSFST",
        "outputId": "e9be9ae9-5c54-470d-c7dc-a9a91873212a"
      },
      "execution_count": 16,
      "outputs": [
        {
          "output_type": "execute_result",
          "data": {
            "text/plain": [
              "      Population  Violent  Property  Murder  Forcible_Rape  Robbery  \\\n",
              "Year                                                                  \n",
              "1978   218059000  1085550  10123400   19560          67610   426930   \n",
              "\n",
              "      Aggravated_assault  Burglary  Larceny_Theft  Vehicle_Theft  \n",
              "Year                                                              \n",
              "1978              571460   3128300        5991000        1004100  "
            ],
            "text/html": [
              "\n",
              "  <div id=\"df-677d9327-f895-4a57-9697-9bb2de5b6de7\">\n",
              "    <div class=\"colab-df-container\">\n",
              "      <div>\n",
              "<style scoped>\n",
              "    .dataframe tbody tr th:only-of-type {\n",
              "        vertical-align: middle;\n",
              "    }\n",
              "\n",
              "    .dataframe tbody tr th {\n",
              "        vertical-align: top;\n",
              "    }\n",
              "\n",
              "    .dataframe thead th {\n",
              "        text-align: right;\n",
              "    }\n",
              "</style>\n",
              "<table border=\"1\" class=\"dataframe\">\n",
              "  <thead>\n",
              "    <tr style=\"text-align: right;\">\n",
              "      <th></th>\n",
              "      <th>Population</th>\n",
              "      <th>Violent</th>\n",
              "      <th>Property</th>\n",
              "      <th>Murder</th>\n",
              "      <th>Forcible_Rape</th>\n",
              "      <th>Robbery</th>\n",
              "      <th>Aggravated_assault</th>\n",
              "      <th>Burglary</th>\n",
              "      <th>Larceny_Theft</th>\n",
              "      <th>Vehicle_Theft</th>\n",
              "    </tr>\n",
              "    <tr>\n",
              "      <th>Year</th>\n",
              "      <th></th>\n",
              "      <th></th>\n",
              "      <th></th>\n",
              "      <th></th>\n",
              "      <th></th>\n",
              "      <th></th>\n",
              "      <th></th>\n",
              "      <th></th>\n",
              "      <th></th>\n",
              "      <th></th>\n",
              "    </tr>\n",
              "  </thead>\n",
              "  <tbody>\n",
              "    <tr>\n",
              "      <th>1978</th>\n",
              "      <td>218059000</td>\n",
              "      <td>1085550</td>\n",
              "      <td>10123400</td>\n",
              "      <td>19560</td>\n",
              "      <td>67610</td>\n",
              "      <td>426930</td>\n",
              "      <td>571460</td>\n",
              "      <td>3128300</td>\n",
              "      <td>5991000</td>\n",
              "      <td>1004100</td>\n",
              "    </tr>\n",
              "  </tbody>\n",
              "</table>\n",
              "</div>\n",
              "      <button class=\"colab-df-convert\" onclick=\"convertToInteractive('df-677d9327-f895-4a57-9697-9bb2de5b6de7')\"\n",
              "              title=\"Convert this dataframe to an interactive table.\"\n",
              "              style=\"display:none;\">\n",
              "        \n",
              "  <svg xmlns=\"http://www.w3.org/2000/svg\" height=\"24px\"viewBox=\"0 0 24 24\"\n",
              "       width=\"24px\">\n",
              "    <path d=\"M0 0h24v24H0V0z\" fill=\"none\"/>\n",
              "    <path d=\"M18.56 5.44l.94 2.06.94-2.06 2.06-.94-2.06-.94-.94-2.06-.94 2.06-2.06.94zm-11 1L8.5 8.5l.94-2.06 2.06-.94-2.06-.94L8.5 2.5l-.94 2.06-2.06.94zm10 10l.94 2.06.94-2.06 2.06-.94-2.06-.94-.94-2.06-.94 2.06-2.06.94z\"/><path d=\"M17.41 7.96l-1.37-1.37c-.4-.4-.92-.59-1.43-.59-.52 0-1.04.2-1.43.59L10.3 9.45l-7.72 7.72c-.78.78-.78 2.05 0 2.83L4 21.41c.39.39.9.59 1.41.59.51 0 1.02-.2 1.41-.59l7.78-7.78 2.81-2.81c.8-.78.8-2.07 0-2.86zM5.41 20L4 18.59l7.72-7.72 1.47 1.35L5.41 20z\"/>\n",
              "  </svg>\n",
              "      </button>\n",
              "      \n",
              "  <style>\n",
              "    .colab-df-container {\n",
              "      display:flex;\n",
              "      flex-wrap:wrap;\n",
              "      gap: 12px;\n",
              "    }\n",
              "\n",
              "    .colab-df-convert {\n",
              "      background-color: #E8F0FE;\n",
              "      border: none;\n",
              "      border-radius: 50%;\n",
              "      cursor: pointer;\n",
              "      display: none;\n",
              "      fill: #1967D2;\n",
              "      height: 32px;\n",
              "      padding: 0 0 0 0;\n",
              "      width: 32px;\n",
              "    }\n",
              "\n",
              "    .colab-df-convert:hover {\n",
              "      background-color: #E2EBFA;\n",
              "      box-shadow: 0px 1px 2px rgba(60, 64, 67, 0.3), 0px 1px 3px 1px rgba(60, 64, 67, 0.15);\n",
              "      fill: #174EA6;\n",
              "    }\n",
              "\n",
              "    [theme=dark] .colab-df-convert {\n",
              "      background-color: #3B4455;\n",
              "      fill: #D2E3FC;\n",
              "    }\n",
              "\n",
              "    [theme=dark] .colab-df-convert:hover {\n",
              "      background-color: #434B5C;\n",
              "      box-shadow: 0px 1px 3px 1px rgba(0, 0, 0, 0.15);\n",
              "      filter: drop-shadow(0px 1px 2px rgba(0, 0, 0, 0.3));\n",
              "      fill: #FFFFFF;\n",
              "    }\n",
              "  </style>\n",
              "\n",
              "      <script>\n",
              "        const buttonEl =\n",
              "          document.querySelector('#df-677d9327-f895-4a57-9697-9bb2de5b6de7 button.colab-df-convert');\n",
              "        buttonEl.style.display =\n",
              "          google.colab.kernel.accessAllowed ? 'block' : 'none';\n",
              "\n",
              "        async function convertToInteractive(key) {\n",
              "          const element = document.querySelector('#df-677d9327-f895-4a57-9697-9bb2de5b6de7');\n",
              "          const dataTable =\n",
              "            await google.colab.kernel.invokeFunction('convertToInteractive',\n",
              "                                                     [key], {});\n",
              "          if (!dataTable) return;\n",
              "\n",
              "          const docLinkHtml = 'Like what you see? Visit the ' +\n",
              "            '<a target=\"_blank\" href=https://colab.research.google.com/notebooks/data_table.ipynb>data table notebook</a>'\n",
              "            + ' to learn more about interactive tables.';\n",
              "          element.innerHTML = '';\n",
              "          dataTable['output_type'] = 'display_data';\n",
              "          await google.colab.output.renderOutput(dataTable, element);\n",
              "          const docLink = document.createElement('div');\n",
              "          docLink.innerHTML = docLinkHtml;\n",
              "          element.appendChild(docLink);\n",
              "        }\n",
              "      </script>\n",
              "    </div>\n",
              "  </div>\n",
              "  "
            ]
          },
          "metadata": {},
          "execution_count": 16
        }
      ]
    },
    {
      "cell_type": "code",
      "source": [
        "df[df.index == 1978]['Vehicle_Theft']"
      ],
      "metadata": {
        "colab": {
          "base_uri": "https://localhost:8080/"
        },
        "id": "tSBo4ll0cpO_",
        "outputId": "b44841c5-42bc-4a35-e069-32def12f2b26"
      },
      "execution_count": 17,
      "outputs": [
        {
          "output_type": "execute_result",
          "data": {
            "text/plain": [
              "Year\n",
              "1978    1004100\n",
              "Name: Vehicle_Theft, dtype: int64"
            ]
          },
          "metadata": {},
          "execution_count": 17
        }
      ]
    },
    {
      "cell_type": "markdown",
      "source": [
        "### Tarefa 7. Retorne a linha do ano em que houve o maior número de assasinatos."
      ],
      "metadata": {
        "id": "xR2FL-QY-E1M"
      }
    },
    {
      "cell_type": "code",
      "source": [
        "df[df['Murder'] == df['Murder'].max()]"
      ],
      "metadata": {
        "colab": {
          "base_uri": "https://localhost:8080/",
          "height": 112
        },
        "id": "zdBZYFLw-HQZ",
        "outputId": "f1530041-8cb7-405e-e44c-ba91355795df"
      },
      "execution_count": 19,
      "outputs": [
        {
          "output_type": "execute_result",
          "data": {
            "text/plain": [
              "      Population  Violent  Property  Murder  Forcible_Rape  Robbery  \\\n",
              "Year                                                                  \n",
              "1991   252177000  1911770  12961100   24700         106590   687730   \n",
              "\n",
              "      Aggravated_assault  Burglary  Larceny_Theft  Vehicle_Theft  \n",
              "Year                                                              \n",
              "1991             1092740   3157200        8142200        1661700  "
            ],
            "text/html": [
              "\n",
              "  <div id=\"df-53e0c25d-9c10-4dde-91be-2940276a7ea2\">\n",
              "    <div class=\"colab-df-container\">\n",
              "      <div>\n",
              "<style scoped>\n",
              "    .dataframe tbody tr th:only-of-type {\n",
              "        vertical-align: middle;\n",
              "    }\n",
              "\n",
              "    .dataframe tbody tr th {\n",
              "        vertical-align: top;\n",
              "    }\n",
              "\n",
              "    .dataframe thead th {\n",
              "        text-align: right;\n",
              "    }\n",
              "</style>\n",
              "<table border=\"1\" class=\"dataframe\">\n",
              "  <thead>\n",
              "    <tr style=\"text-align: right;\">\n",
              "      <th></th>\n",
              "      <th>Population</th>\n",
              "      <th>Violent</th>\n",
              "      <th>Property</th>\n",
              "      <th>Murder</th>\n",
              "      <th>Forcible_Rape</th>\n",
              "      <th>Robbery</th>\n",
              "      <th>Aggravated_assault</th>\n",
              "      <th>Burglary</th>\n",
              "      <th>Larceny_Theft</th>\n",
              "      <th>Vehicle_Theft</th>\n",
              "    </tr>\n",
              "    <tr>\n",
              "      <th>Year</th>\n",
              "      <th></th>\n",
              "      <th></th>\n",
              "      <th></th>\n",
              "      <th></th>\n",
              "      <th></th>\n",
              "      <th></th>\n",
              "      <th></th>\n",
              "      <th></th>\n",
              "      <th></th>\n",
              "      <th></th>\n",
              "    </tr>\n",
              "  </thead>\n",
              "  <tbody>\n",
              "    <tr>\n",
              "      <th>1991</th>\n",
              "      <td>252177000</td>\n",
              "      <td>1911770</td>\n",
              "      <td>12961100</td>\n",
              "      <td>24700</td>\n",
              "      <td>106590</td>\n",
              "      <td>687730</td>\n",
              "      <td>1092740</td>\n",
              "      <td>3157200</td>\n",
              "      <td>8142200</td>\n",
              "      <td>1661700</td>\n",
              "    </tr>\n",
              "  </tbody>\n",
              "</table>\n",
              "</div>\n",
              "      <button class=\"colab-df-convert\" onclick=\"convertToInteractive('df-53e0c25d-9c10-4dde-91be-2940276a7ea2')\"\n",
              "              title=\"Convert this dataframe to an interactive table.\"\n",
              "              style=\"display:none;\">\n",
              "        \n",
              "  <svg xmlns=\"http://www.w3.org/2000/svg\" height=\"24px\"viewBox=\"0 0 24 24\"\n",
              "       width=\"24px\">\n",
              "    <path d=\"M0 0h24v24H0V0z\" fill=\"none\"/>\n",
              "    <path d=\"M18.56 5.44l.94 2.06.94-2.06 2.06-.94-2.06-.94-.94-2.06-.94 2.06-2.06.94zm-11 1L8.5 8.5l.94-2.06 2.06-.94-2.06-.94L8.5 2.5l-.94 2.06-2.06.94zm10 10l.94 2.06.94-2.06 2.06-.94-2.06-.94-.94-2.06-.94 2.06-2.06.94z\"/><path d=\"M17.41 7.96l-1.37-1.37c-.4-.4-.92-.59-1.43-.59-.52 0-1.04.2-1.43.59L10.3 9.45l-7.72 7.72c-.78.78-.78 2.05 0 2.83L4 21.41c.39.39.9.59 1.41.59.51 0 1.02-.2 1.41-.59l7.78-7.78 2.81-2.81c.8-.78.8-2.07 0-2.86zM5.41 20L4 18.59l7.72-7.72 1.47 1.35L5.41 20z\"/>\n",
              "  </svg>\n",
              "      </button>\n",
              "      \n",
              "  <style>\n",
              "    .colab-df-container {\n",
              "      display:flex;\n",
              "      flex-wrap:wrap;\n",
              "      gap: 12px;\n",
              "    }\n",
              "\n",
              "    .colab-df-convert {\n",
              "      background-color: #E8F0FE;\n",
              "      border: none;\n",
              "      border-radius: 50%;\n",
              "      cursor: pointer;\n",
              "      display: none;\n",
              "      fill: #1967D2;\n",
              "      height: 32px;\n",
              "      padding: 0 0 0 0;\n",
              "      width: 32px;\n",
              "    }\n",
              "\n",
              "    .colab-df-convert:hover {\n",
              "      background-color: #E2EBFA;\n",
              "      box-shadow: 0px 1px 2px rgba(60, 64, 67, 0.3), 0px 1px 3px 1px rgba(60, 64, 67, 0.15);\n",
              "      fill: #174EA6;\n",
              "    }\n",
              "\n",
              "    [theme=dark] .colab-df-convert {\n",
              "      background-color: #3B4455;\n",
              "      fill: #D2E3FC;\n",
              "    }\n",
              "\n",
              "    [theme=dark] .colab-df-convert:hover {\n",
              "      background-color: #434B5C;\n",
              "      box-shadow: 0px 1px 3px 1px rgba(0, 0, 0, 0.15);\n",
              "      filter: drop-shadow(0px 1px 2px rgba(0, 0, 0, 0.3));\n",
              "      fill: #FFFFFF;\n",
              "    }\n",
              "  </style>\n",
              "\n",
              "      <script>\n",
              "        const buttonEl =\n",
              "          document.querySelector('#df-53e0c25d-9c10-4dde-91be-2940276a7ea2 button.colab-df-convert');\n",
              "        buttonEl.style.display =\n",
              "          google.colab.kernel.accessAllowed ? 'block' : 'none';\n",
              "\n",
              "        async function convertToInteractive(key) {\n",
              "          const element = document.querySelector('#df-53e0c25d-9c10-4dde-91be-2940276a7ea2');\n",
              "          const dataTable =\n",
              "            await google.colab.kernel.invokeFunction('convertToInteractive',\n",
              "                                                     [key], {});\n",
              "          if (!dataTable) return;\n",
              "\n",
              "          const docLinkHtml = 'Like what you see? Visit the ' +\n",
              "            '<a target=\"_blank\" href=https://colab.research.google.com/notebooks/data_table.ipynb>data table notebook</a>'\n",
              "            + ' to learn more about interactive tables.';\n",
              "          element.innerHTML = '';\n",
              "          dataTable['output_type'] = 'display_data';\n",
              "          await google.colab.output.renderOutput(dataTable, element);\n",
              "          const docLink = document.createElement('div');\n",
              "          docLink.innerHTML = docLinkHtml;\n",
              "          element.appendChild(docLink);\n",
              "        }\n",
              "      </script>\n",
              "    </div>\n",
              "  </div>\n",
              "  "
            ]
          },
          "metadata": {},
          "execution_count": 19
        }
      ]
    },
    {
      "cell_type": "markdown",
      "source": [
        "### Tarefa 8. Retorne o número de assassinatos do ano em que foi registrado o menor número de roubo de carros."
      ],
      "metadata": {
        "id": "Wd3osmV6-Hzf"
      }
    },
    {
      "cell_type": "code",
      "source": [
        "df[df['Vehicle_Theft'] == df['Vehicle_Theft'].min()]['Murder']"
      ],
      "metadata": {
        "colab": {
          "base_uri": "https://localhost:8080/"
        },
        "id": "uMBTbWab-KzR",
        "outputId": "26208edc-845d-4753-f014-1a8a62e8991f"
      },
      "execution_count": 23,
      "outputs": [
        {
          "output_type": "execute_result",
          "data": {
            "text/plain": [
              "Year\n",
              "1960    9110\n",
              "Name: Murder, dtype: int64"
            ]
          },
          "metadata": {},
          "execution_count": 23
        }
      ]
    }
  ]
}